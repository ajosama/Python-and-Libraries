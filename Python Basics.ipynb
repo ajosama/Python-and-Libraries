{
 "cells": [
  {
   "cell_type": "markdown",
   "id": "d1ebc30d-d96f-4e2a-ae43-9bef482bb339",
   "metadata": {},
   "source": [
    "$ x^2 $"
   ]
  },
  {
   "cell_type": "markdown",
   "id": "a1859bf6-6a81-4ce8-850a-9abefe8ea23c",
   "metadata": {},
   "source": [
    "$$ x^2 $$"
   ]
  },
  {
   "cell_type": "markdown",
   "id": "b6fca88d-08e8-4b07-85ed-fe2860e5ccbb",
   "metadata": {},
   "source": [
    "$$\n",
    "\\frac{arg1}{arg2} \\\\\n",
    "x^2 \\\\\n",
    "A_i \\\\\n",
    "B_{ij} \\\\\n",
    "\\sqrt[n]{arg1}\n",
    "$$"
   ]
  },
  {
   "cell_type": "code",
   "execution_count": 7,
   "id": "50491007-aea6-4669-9c5d-d31dac89e42f",
   "metadata": {},
   "outputs": [],
   "source": [
    "def HW():\n",
    "    print('Hello World!')"
   ]
  },
  {
   "cell_type": "code",
   "execution_count": 8,
   "id": "8cdcbeb0-0074-4584-b2ae-104ce5015d77",
   "metadata": {},
   "outputs": [
    {
     "name": "stdout",
     "output_type": "stream",
     "text": [
      "Hello World!\n"
     ]
    }
   ],
   "source": [
    "HW()"
   ]
  },
  {
   "cell_type": "code",
   "execution_count": 9,
   "id": "a4aba7eb-1001-4068-b8ed-2126fc6f200f",
   "metadata": {},
   "outputs": [],
   "source": [
    "def mod(x,y):   # x and y are parameters\n",
    "    return x % y"
   ]
  },
  {
   "cell_type": "code",
   "execution_count": 11,
   "id": "c9e47790-977d-485d-84ce-8a8d324c9c3b",
   "metadata": {},
   "outputs": [
    {
     "data": {
      "text/plain": [
       "2"
      ]
     },
     "execution_count": 11,
     "metadata": {},
     "output_type": "execute_result"
    }
   ],
   "source": [
    "mod(5,3)   # Arguments"
   ]
  },
  {
   "cell_type": "code",
   "execution_count": 12,
   "id": "0dc0f65d-15fc-4c5c-a3f7-14f1e5865515",
   "metadata": {},
   "outputs": [
    {
     "name": "stdout",
     "output_type": "stream",
     "text": [
      "[1, 'Abu', [2, 3, 4], 'Osama', 33.0]\n"
     ]
    }
   ],
   "source": [
    "l = [1,'Abu',[2,3,4],'Osama',33.0]\n",
    "print(l)"
   ]
  },
  {
   "cell_type": "code",
   "execution_count": 13,
   "id": "cd37c962-9166-4c6f-a16f-2a284c19872f",
   "metadata": {},
   "outputs": [
    {
     "name": "stdout",
     "output_type": "stream",
     "text": [
      "1\n",
      "Abu\n",
      "[2, 3, 4]\n",
      "Osama\n",
      "33.0\n"
     ]
    }
   ],
   "source": [
    "for i in l:\n",
    "    print(i)"
   ]
  },
  {
   "cell_type": "code",
   "execution_count": 14,
   "id": "378eee3c-6fd5-4c8a-8d72-f602c85b672c",
   "metadata": {},
   "outputs": [
    {
     "name": "stdout",
     "output_type": "stream",
     "text": [
      "1\n",
      "Abu\n",
      "[2, 3, 4]\n",
      "Osama\n",
      "33.0\n"
     ]
    }
   ],
   "source": [
    "for i in range(len(l)):\n",
    "    print(l[i])"
   ]
  },
  {
   "cell_type": "code",
   "execution_count": 17,
   "id": "64b59b6e-e20b-45ce-aeb4-3c21f48ba9e3",
   "metadata": {},
   "outputs": [
    {
     "data": {
      "text/plain": [
       "['Osama', 'Abu']"
      ]
     },
     "execution_count": 17,
     "metadata": {},
     "output_type": "execute_result"
    }
   ],
   "source": [
    "l[0]\n",
    "l[-1]\n",
    "l[-2::-2]"
   ]
  },
  {
   "cell_type": "code",
   "execution_count": 23,
   "id": "7dc19302-53f5-40ec-82de-e4d79d403f24",
   "metadata": {},
   "outputs": [
    {
     "data": {
      "text/plain": [
       "'Abu Osam'"
      ]
     },
     "execution_count": 23,
     "metadata": {},
     "output_type": "execute_result"
    }
   ],
   "source": [
    "s = 'Abu Osama'\n",
    "s[0] \n",
    "s[-1] # a\n",
    "s[0:] # Abu Osama\n",
    "s[:-1]   # Abu Osam"
   ]
  },
  {
   "cell_type": "code",
   "execution_count": 24,
   "id": "8db1c548-ed26-4e54-89fa-c34a6674b06c",
   "metadata": {},
   "outputs": [
    {
     "data": {
      "text/plain": [
       "'ABU OSAMA'"
      ]
     },
     "execution_count": 24,
     "metadata": {},
     "output_type": "execute_result"
    }
   ],
   "source": [
    "s.upper()"
   ]
  },
  {
   "cell_type": "code",
   "execution_count": 25,
   "id": "4af129eb-3c61-4771-ae4d-9981c755eb8b",
   "metadata": {},
   "outputs": [
    {
     "data": {
      "text/plain": [
       "'abu osama'"
      ]
     },
     "execution_count": 25,
     "metadata": {},
     "output_type": "execute_result"
    }
   ],
   "source": [
    "s.lower()"
   ]
  },
  {
   "cell_type": "code",
   "execution_count": 26,
   "id": "3086d55a-ae17-467b-b17d-fee767ae802d",
   "metadata": {},
   "outputs": [
    {
     "data": {
      "text/plain": [
       "['Abu', 'Osama']"
      ]
     },
     "execution_count": 26,
     "metadata": {},
     "output_type": "execute_result"
    }
   ],
   "source": [
    "s.split()"
   ]
  },
  {
   "cell_type": "code",
   "execution_count": 28,
   "id": "48db60aa-e3c9-4a0a-957b-9fb09883db91",
   "metadata": {},
   "outputs": [
    {
     "data": {
      "text/plain": [
       "'Abu Osama Jameel Ahmad'"
      ]
     },
     "execution_count": 28,
     "metadata": {},
     "output_type": "execute_result"
    }
   ],
   "source": [
    "s + ' Jameel Ahmad'"
   ]
  },
  {
   "cell_type": "code",
   "execution_count": 29,
   "id": "0fc70539-75cf-4375-ad1c-fecd170270c3",
   "metadata": {},
   "outputs": [
    {
     "name": "stdout",
     "output_type": "stream",
     "text": [
      "Abu Welcome to python class\n"
     ]
    }
   ],
   "source": [
    "print('{} Welcome to python class'.format('Abu'))"
   ]
  },
  {
   "cell_type": "code",
   "execution_count": 30,
   "id": "02249f9f-85f8-4db1-af9f-373377d5417a",
   "metadata": {},
   "outputs": [],
   "source": [
    "# Create a class\n",
    "class House:\n",
    "    house_type = 'Rented House'   # class variable\n",
    "    # Constructor\n",
    "    def __init__(self,floors,rooms,price):\n",
    "        self.floors = floors\n",
    "        self.rooms = rooms\n",
    "        self.price = price"
   ]
  },
  {
   "cell_type": "code",
   "execution_count": 33,
   "id": "c8d4dc61-194c-496d-ae89-c916669210f9",
   "metadata": {},
   "outputs": [
    {
     "data": {
      "text/plain": [
       "'Rented House'"
      ]
     },
     "execution_count": 33,
     "metadata": {},
     "output_type": "execute_result"
    }
   ],
   "source": [
    "home = House(1,3,15000)\n",
    "home.house_type"
   ]
  },
  {
   "cell_type": "code",
   "execution_count": 34,
   "id": "3763e9e2-991c-47e9-b0c2-e4be03ee6ad1",
   "metadata": {},
   "outputs": [
    {
     "data": {
      "text/plain": [
       "1"
      ]
     },
     "execution_count": 34,
     "metadata": {},
     "output_type": "execute_result"
    }
   ],
   "source": [
    "home.floors"
   ]
  },
  {
   "cell_type": "code",
   "execution_count": 35,
   "id": "f59cec15-9508-454f-b6b5-c10af10171f9",
   "metadata": {},
   "outputs": [
    {
     "data": {
      "text/plain": [
       "3"
      ]
     },
     "execution_count": 35,
     "metadata": {},
     "output_type": "execute_result"
    }
   ],
   "source": [
    "home.rooms"
   ]
  },
  {
   "cell_type": "code",
   "execution_count": 36,
   "id": "9b7856ac-e185-465b-9d59-18bcc27edf82",
   "metadata": {},
   "outputs": [
    {
     "data": {
      "text/plain": [
       "15000"
      ]
     },
     "execution_count": 36,
     "metadata": {},
     "output_type": "execute_result"
    }
   ],
   "source": [
    "home.price"
   ]
  },
  {
   "cell_type": "code",
   "execution_count": 37,
   "id": "6ca2d4b7-a002-48fb-8d3d-dc71175cbbd4",
   "metadata": {},
   "outputs": [],
   "source": [
    "home.price = 16000"
   ]
  },
  {
   "cell_type": "code",
   "execution_count": 38,
   "id": "10b6c4d0-816c-45c8-98bd-f2ff993cbaca",
   "metadata": {},
   "outputs": [
    {
     "data": {
      "text/plain": [
       "16000"
      ]
     },
     "execution_count": 38,
     "metadata": {},
     "output_type": "execute_result"
    }
   ],
   "source": [
    "home.price"
   ]
  },
  {
   "cell_type": "code",
   "execution_count": 39,
   "id": "2b1b09b3-c0b5-4ddf-aba0-92da3e84a355",
   "metadata": {},
   "outputs": [],
   "source": [
    "del home.floors"
   ]
  },
  {
   "cell_type": "code",
   "execution_count": 40,
   "id": "fa58d52b-5d04-4459-9cdf-5f07e1879fb2",
   "metadata": {},
   "outputs": [
    {
     "ename": "AttributeError",
     "evalue": "'House' object has no attribute 'floors'",
     "output_type": "error",
     "traceback": [
      "\u001b[1;31m---------------------------------------------------------------------------\u001b[0m",
      "\u001b[1;31mAttributeError\u001b[0m                            Traceback (most recent call last)",
      "Cell \u001b[1;32mIn[40], line 1\u001b[0m\n\u001b[1;32m----> 1\u001b[0m home\u001b[38;5;241m.\u001b[39mfloors\n",
      "\u001b[1;31mAttributeError\u001b[0m: 'House' object has no attribute 'floors'"
     ]
    }
   ],
   "source": [
    "home.floors"
   ]
  },
  {
   "cell_type": "markdown",
   "id": "4855b84f-caa2-4a07-9545-7e678c8731b7",
   "metadata": {},
   "source": [
    "## we can add multiple attributes to the class dynamically"
   ]
  },
  {
   "cell_type": "code",
   "execution_count": 41,
   "id": "4a21b067-1095-4144-be14-bb97543633f9",
   "metadata": {},
   "outputs": [],
   "source": [
    "home.floors = 2"
   ]
  },
  {
   "cell_type": "code",
   "execution_count": 43,
   "id": "beeff047-5234-43ec-b5fd-46904d4dfe89",
   "metadata": {},
   "outputs": [],
   "source": [
    "home.bathrooms = 3"
   ]
  },
  {
   "cell_type": "code",
   "execution_count": 44,
   "id": "9ea96db9-f9e4-433c-9987-19af59b2b0be",
   "metadata": {},
   "outputs": [
    {
     "data": {
      "text/plain": [
       "2"
      ]
     },
     "execution_count": 44,
     "metadata": {},
     "output_type": "execute_result"
    }
   ],
   "source": [
    "home.floors"
   ]
  },
  {
   "cell_type": "code",
   "execution_count": 45,
   "id": "a0ceb337-8b09-4cc5-9256-22cb4905cb53",
   "metadata": {},
   "outputs": [
    {
     "data": {
      "text/plain": [
       "3"
      ]
     },
     "execution_count": 45,
     "metadata": {},
     "output_type": "execute_result"
    }
   ],
   "source": [
    "home.bathrooms"
   ]
  },
  {
   "cell_type": "markdown",
   "id": "ae1a3532-4c98-4105-a2a4-3d9eea76995f",
   "metadata": {},
   "source": [
    "# Map"
   ]
  },
  {
   "cell_type": "code",
   "execution_count": 58,
   "id": "0e8ba99f-bd9f-4eb1-97b6-287d298462ce",
   "metadata": {},
   "outputs": [],
   "source": [
    "l = [1,2,3,4]\n",
    "def squar(x):\n",
    "    return x*x"
   ]
  },
  {
   "cell_type": "code",
   "execution_count": 59,
   "id": "a1e0ebd2-5081-41ef-ac87-a8a4a8e6e2af",
   "metadata": {},
   "outputs": [
    {
     "name": "stdout",
     "output_type": "stream",
     "text": [
      "[1, 4, 9, 16]\n"
     ]
    }
   ],
   "source": [
    "new_list = []\n",
    "for i in l:\n",
    "    new_list.append(squar(i))\n",
    "print(new_list)"
   ]
  },
  {
   "cell_type": "code",
   "execution_count": 60,
   "id": "c1ea3131-5a2a-408d-a67e-0b852fe2f942",
   "metadata": {},
   "outputs": [],
   "source": [
    "updated_list = list(map(squar,l))"
   ]
  },
  {
   "cell_type": "code",
   "execution_count": 61,
   "id": "20a4d968-e3db-4536-a274-41700dfe2f15",
   "metadata": {},
   "outputs": [
    {
     "data": {
      "text/plain": [
       "[1, 4, 9, 16]"
      ]
     },
     "execution_count": 61,
     "metadata": {},
     "output_type": "execute_result"
    }
   ],
   "source": [
    "updated_list"
   ]
  },
  {
   "cell_type": "code",
   "execution_count": 62,
   "id": "f4a5dab9-207d-4b3d-95c7-1bdd6c79684f",
   "metadata": {},
   "outputs": [],
   "source": [
    "name = 'Abu Osama'\n",
    "def upper_case(x):\n",
    "    return x.upper()"
   ]
  },
  {
   "cell_type": "code",
   "execution_count": 75,
   "id": "13177af5-9a5e-4a0a-bd4c-ad2823136576",
   "metadata": {},
   "outputs": [],
   "source": [
    "name_upper = map(upper_case,name)"
   ]
  },
  {
   "cell_type": "code",
   "execution_count": 76,
   "id": "d91173f1-a732-4f5f-ade6-5a1ca28d35ae",
   "metadata": {},
   "outputs": [
    {
     "name": "stdout",
     "output_type": "stream",
     "text": [
      "ABU OSAMA"
     ]
    }
   ],
   "source": [
    "for i in name_upper:\n",
    "    print(i,end='')"
   ]
  },
  {
   "cell_type": "code",
   "execution_count": 82,
   "id": "564e0ced-1761-41c9-96dc-77900b51857e",
   "metadata": {},
   "outputs": [],
   "source": [
    "name_upper2 = map(lambda x:x.upper(),name)"
   ]
  },
  {
   "cell_type": "code",
   "execution_count": 83,
   "id": "bba7bf8e-790c-433f-a4f7-4d013af94c93",
   "metadata": {},
   "outputs": [
    {
     "name": "stdout",
     "output_type": "stream",
     "text": [
      "ABU OSAMA"
     ]
    }
   ],
   "source": [
    "for i in name_upper2:\n",
    "    print(i,end='')"
   ]
  },
  {
   "cell_type": "code",
   "execution_count": 86,
   "id": "7dc751f1-8b87-42ea-8c74-d6fe9430f7d4",
   "metadata": {},
   "outputs": [],
   "source": [
    "name1 = 'Abu Osama'\n",
    "name2 = ' Jameel Ahmad'\n",
    "name_upper3 = map(lambda x:x.upper(),[name1,name2])"
   ]
  },
  {
   "cell_type": "code",
   "execution_count": 87,
   "id": "e888c904-1f6e-4592-86c7-34a977f38d66",
   "metadata": {},
   "outputs": [
    {
     "name": "stdout",
     "output_type": "stream",
     "text": [
      "ABU OSAMA JAMEEL AHMAD"
     ]
    }
   ],
   "source": [
    "for i in name_upper3:\n",
    "    print(i,end='')"
   ]
  },
  {
   "cell_type": "markdown",
   "id": "2be3150b-81f8-4720-a640-bb6cf5405697",
   "metadata": {},
   "source": [
    "# Lambda"
   ]
  },
  {
   "cell_type": "code",
   "execution_count": 88,
   "id": "98658c6b-d2f0-4ad5-931f-448e9568e1ec",
   "metadata": {},
   "outputs": [],
   "source": [
    "# lambda args:expression"
   ]
  },
  {
   "cell_type": "code",
   "execution_count": 89,
   "id": "bb70e5d3-8bcc-42e1-a8a6-820afda2d474",
   "metadata": {},
   "outputs": [],
   "source": [
    "s = lambda x:x*x"
   ]
  },
  {
   "cell_type": "code",
   "execution_count": 90,
   "id": "45518285-a065-497f-b0ab-66edcd10482a",
   "metadata": {},
   "outputs": [
    {
     "data": {
      "text/plain": [
       "4"
      ]
     },
     "execution_count": 90,
     "metadata": {},
     "output_type": "execute_result"
    }
   ],
   "source": [
    "s(2)"
   ]
  },
  {
   "cell_type": "code",
   "execution_count": 91,
   "id": "5340c86e-a617-4016-90eb-f2d4fcd3347b",
   "metadata": {},
   "outputs": [],
   "source": [
    "sum_num = lambda x,y:x+y"
   ]
  },
  {
   "cell_type": "code",
   "execution_count": 92,
   "id": "5caf5436-9d29-4da2-93b8-c1913b565b07",
   "metadata": {},
   "outputs": [
    {
     "data": {
      "text/plain": [
       "8"
      ]
     },
     "execution_count": 92,
     "metadata": {},
     "output_type": "execute_result"
    }
   ],
   "source": [
    "sum_num(3,5)"
   ]
  },
  {
   "cell_type": "markdown",
   "id": "6fa4adc7-1740-4d5f-b2eb-29cad0e51955",
   "metadata": {},
   "source": [
    "# List Comprehension"
   ]
  },
  {
   "cell_type": "code",
   "execution_count": 93,
   "id": "f9d98045-3c91-4b7b-8bb9-fc9cedfa40b8",
   "metadata": {},
   "outputs": [
    {
     "name": "stdout",
     "output_type": "stream",
     "text": [
      "[0, 1, 2, 3, 4, 5, 6, 7, 8, 9]\n"
     ]
    }
   ],
   "source": [
    "l = []\n",
    "for i in range(10):\n",
    "    l.append(i)\n",
    "print(l)"
   ]
  },
  {
   "cell_type": "code",
   "execution_count": 94,
   "id": "bb6e7159-92f5-4322-8515-0f17ce727178",
   "metadata": {},
   "outputs": [
    {
     "name": "stdout",
     "output_type": "stream",
     "text": [
      "[0, 1, 2, 3, 4, 5, 6, 7, 8, 9]\n"
     ]
    }
   ],
   "source": [
    "l = [x for x in range(10)]\n",
    "print(l)"
   ]
  },
  {
   "cell_type": "code",
   "execution_count": 96,
   "id": "85677173-4665-4413-882f-7c9ba77e6f6a",
   "metadata": {},
   "outputs": [
    {
     "name": "stdout",
     "output_type": "stream",
     "text": [
      "[0, 2, 4, 6, 8]\n"
     ]
    }
   ],
   "source": [
    "l = [x for x in range(10) if x%2 == 0]\n",
    "print(l)"
   ]
  },
  {
   "cell_type": "code",
   "execution_count": 102,
   "id": "e103a08f-9ff4-428b-a31d-7957c6eaaa0f",
   "metadata": {},
   "outputs": [
    {
     "name": "stdout",
     "output_type": "stream",
     "text": [
      "['even', 'odd', 'even', 'odd', 'even', 'odd', 'even', 'odd', 'even', 'odd']\n"
     ]
    }
   ],
   "source": [
    "l = ['even' if x%2 == 0 else 'odd' for x in range(10)]\n",
    "print(l)"
   ]
  },
  {
   "cell_type": "code",
   "execution_count": null,
   "id": "9a4c4230-1b77-4149-a347-ab62ad49af43",
   "metadata": {},
   "outputs": [],
   "source": []
  }
 ],
 "metadata": {
  "kernelspec": {
   "display_name": "My Environment",
   "language": "python",
   "name": "myenv"
  },
  "language_info": {
   "codemirror_mode": {
    "name": "ipython",
    "version": 3
   },
   "file_extension": ".py",
   "mimetype": "text/x-python",
   "name": "python",
   "nbconvert_exporter": "python",
   "pygments_lexer": "ipython3",
   "version": "3.11.5"
  }
 },
 "nbformat": 4,
 "nbformat_minor": 5
}
