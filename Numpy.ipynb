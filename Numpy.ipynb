{
 "cells": [
  {
   "cell_type": "code",
   "execution_count": 22,
   "id": "c633f64f-6530-48f6-b29e-b242dfc90832",
   "metadata": {},
   "outputs": [
    {
     "data": {
      "text/plain": [
       "(4999999950000000, 22.477070569992065)"
      ]
     },
     "execution_count": 22,
     "metadata": {},
     "output_type": "execute_result"
    }
   ],
   "source": [
    "import time\n",
    "before = time.time()\n",
    "sum = 0\n",
    "\n",
    "for i in range(100000000) :\n",
    "    sum = sum + i\n",
    "\n",
    "after = time.time()\n",
    "t_taken = after - before\n",
    "sum,t_taken"
   ]
  },
  {
   "cell_type": "code",
   "execution_count": 27,
   "id": "00228ad5-3ac1-4089-ba5f-fee035540d2f",
   "metadata": {},
   "outputs": [
    {
     "name": "stdout",
     "output_type": "stream",
     "text": [
      "sum =  4999999950000000 and time taken =  0.4717123508453369\n",
      "Numpy is 47.64995135215731 times faster than standard python\n"
     ]
    }
   ],
   "source": [
    "import numpy as np\n",
    "import time\n",
    "before = time.time()\n",
    "sum = 0\n",
    "number = np.arange(100000000)\n",
    "sum = np.sum(number,dtype = np.uint64)\n",
    "after = time.time()\n",
    "ttaken = after - before\n",
    "sum,ttaken\n",
    "\n",
    "factor = t_taken / ttaken\n",
    "\n",
    "print(\"sum = \" ,sum,\"and time taken = \", ttaken)\n",
    "\n",
    "print(\"Numpy is\", factor , \"times faster than standard python\")\n"
   ]
  },
  {
   "cell_type": "code",
   "execution_count": 30,
   "id": "e2f30d11-eb6e-4a80-ab64-3f96136cf35d",
   "metadata": {},
   "outputs": [
    {
     "data": {
      "text/plain": [
       "array([ 1,  2,  3,  4,  5,  6,  7,  8,  9, 10])"
      ]
     },
     "execution_count": 30,
     "metadata": {},
     "output_type": "execute_result"
    }
   ],
   "source": [
    "import numpy\n",
    "\n",
    "a = np.array([1,2,3,4,5,6,7,8,9,10])\n",
    "a"
   ]
  },
  {
   "cell_type": "code",
   "execution_count": 33,
   "id": "b7126743-2572-47bc-bd41-94d85a4814f2",
   "metadata": {},
   "outputs": [
    {
     "data": {
      "text/plain": [
       "array([[ 1,  2,  3,  4,  5,  6,  7,  8,  9, 10],\n",
       "       [11, 12, 13, 14, 15, 16, 17, 18, 19, 20]])"
      ]
     },
     "execution_count": 33,
     "metadata": {},
     "output_type": "execute_result"
    }
   ],
   "source": [
    "b = np.array([[1,2,3,4,5,6,7,8,9,10],[11,12,13,14,15,16,17,18,19,20]])\n",
    "b"
   ]
  },
  {
   "cell_type": "code",
   "execution_count": 34,
   "id": "39718b50-6643-4618-9b06-50f9d735b80f",
   "metadata": {},
   "outputs": [
    {
     "data": {
      "text/plain": [
       "(2, 10)"
      ]
     },
     "execution_count": 34,
     "metadata": {},
     "output_type": "execute_result"
    }
   ],
   "source": [
    "b.shape"
   ]
  },
  {
   "cell_type": "code",
   "execution_count": 35,
   "id": "2fcaebd0-8c07-43e7-8c44-19914e149071",
   "metadata": {},
   "outputs": [
    {
     "data": {
      "text/plain": [
       "array([0, 1, 2, 3, 4, 5, 6, 7, 8, 9])"
      ]
     },
     "execution_count": 35,
     "metadata": {},
     "output_type": "execute_result"
    }
   ],
   "source": [
    "n = np.arange(10)\n",
    "n"
   ]
  },
  {
   "cell_type": "code",
   "execution_count": 36,
   "id": "d60b5054-6e4f-4014-8e76-fee1637d6285",
   "metadata": {},
   "outputs": [
    {
     "data": {
      "text/plain": [
       "array([ 1,  2,  3,  4,  5,  6,  7,  8,  9, 10, 11, 12])"
      ]
     },
     "execution_count": 36,
     "metadata": {},
     "output_type": "execute_result"
    }
   ],
   "source": [
    "x = np.array([1,2,3,4,5,6,7,8,9,10,11,12])\n",
    "x"
   ]
  },
  {
   "cell_type": "code",
   "execution_count": 37,
   "id": "115807c3-1e02-4ac3-981f-ea966fce2869",
   "metadata": {},
   "outputs": [
    {
     "data": {
      "text/plain": [
       "(12,)"
      ]
     },
     "execution_count": 37,
     "metadata": {},
     "output_type": "execute_result"
    }
   ],
   "source": [
    "x.shape"
   ]
  },
  {
   "cell_type": "code",
   "execution_count": 38,
   "id": "07152431-a228-47b2-8beb-1d8a57ed955b",
   "metadata": {},
   "outputs": [
    {
     "data": {
      "text/plain": [
       "array([[ 1,  2,  3,  4],\n",
       "       [ 5,  6,  7,  8],\n",
       "       [ 9, 10, 11, 12]])"
      ]
     },
     "execution_count": 38,
     "metadata": {},
     "output_type": "execute_result"
    }
   ],
   "source": [
    "x.reshape(3,4)"
   ]
  },
  {
   "cell_type": "code",
   "execution_count": 39,
   "id": "fb64bbe0-af22-484a-80bb-a1ea33d5f62b",
   "metadata": {},
   "outputs": [
    {
     "data": {
      "text/plain": [
       "array([[ 1,  2,  3],\n",
       "       [ 4,  5,  6],\n",
       "       [ 7,  8,  9],\n",
       "       [10, 11, 12]])"
      ]
     },
     "execution_count": 39,
     "metadata": {},
     "output_type": "execute_result"
    }
   ],
   "source": [
    "x.reshape(4,3)"
   ]
  },
  {
   "cell_type": "code",
   "execution_count": 40,
   "id": "70e40bab-972d-4582-af48-889ad0c99af3",
   "metadata": {},
   "outputs": [
    {
     "data": {
      "text/plain": [
       "array([[1, 2, 3, 4, 5, 6, 7, 8, 9]])"
      ]
     },
     "execution_count": 40,
     "metadata": {},
     "output_type": "execute_result"
    }
   ],
   "source": [
    "n1 = [1,2,3]\n",
    "n2 = [4,5,6]\n",
    "n3 = [7,8,9]\n",
    "a = np.array([n1+n2+n3])\n",
    "a"
   ]
  },
  {
   "cell_type": "code",
   "execution_count": 41,
   "id": "ac7e8899-c6d8-42ae-8b25-16d968e7cdbb",
   "metadata": {},
   "outputs": [
    {
     "data": {
      "text/plain": [
       "array([4, 6])"
      ]
     },
     "execution_count": 41,
     "metadata": {},
     "output_type": "execute_result"
    }
   ],
   "source": [
    "a=np.array([1,2])\n",
    "b=np.array([3,4])\n",
    "c= a+b\n",
    "c"
   ]
  },
  {
   "cell_type": "code",
   "execution_count": 43,
   "id": "1857c47a-7443-45b9-8b3e-aace20131b90",
   "metadata": {},
   "outputs": [
    {
     "data": {
      "text/plain": [
       "[1, 2, 3, 4]"
      ]
     },
     "execution_count": 43,
     "metadata": {},
     "output_type": "execute_result"
    }
   ],
   "source": [
    "d=[1,2]\n",
    "e=[3,4]\n",
    "f= d+e\n",
    "f"
   ]
  },
  {
   "cell_type": "code",
   "execution_count": 44,
   "id": "d50c3db4-e030-4eae-a0cc-79744a35c437",
   "metadata": {},
   "outputs": [
    {
     "data": {
      "text/plain": [
       "array([1, 2, 3, 4])"
      ]
     },
     "execution_count": 44,
     "metadata": {},
     "output_type": "execute_result"
    }
   ],
   "source": [
    "np.array(f)"
   ]
  },
  {
   "cell_type": "code",
   "execution_count": 45,
   "id": "c62812ed-1475-4c09-b2be-7501a2bb1d4e",
   "metadata": {},
   "outputs": [
    {
     "data": {
      "text/plain": [
       "array([3, 6, 9])"
      ]
     },
     "execution_count": 45,
     "metadata": {},
     "output_type": "execute_result"
    }
   ],
   "source": [
    "g = np.array([1,2,3])\n",
    "3 * g"
   ]
  },
  {
   "cell_type": "code",
   "execution_count": 46,
   "id": "883d65be-78a6-43a4-bbb7-f7387e5781bf",
   "metadata": {},
   "outputs": [
    {
     "data": {
      "text/plain": [
       "array([5, 6, 7])"
      ]
     },
     "execution_count": 46,
     "metadata": {},
     "output_type": "execute_result"
    }
   ],
   "source": [
    "g + [4]"
   ]
  },
  {
   "cell_type": "code",
   "execution_count": 47,
   "id": "3505baf0-b1fa-4e1e-99cf-8778eaebb5c6",
   "metadata": {},
   "outputs": [
    {
     "data": {
      "text/plain": [
       "array([[1, 2, 3],\n",
       "       [4, 5, 6]])"
      ]
     },
     "execution_count": 47,
     "metadata": {},
     "output_type": "execute_result"
    }
   ],
   "source": [
    "i = np.array([[1,2,3],[4,5,6]])\n",
    "i"
   ]
  },
  {
   "cell_type": "code",
   "execution_count": 48,
   "id": "2206a064-c711-4164-89d2-5663f08155d0",
   "metadata": {},
   "outputs": [
    {
     "data": {
      "text/plain": [
       "21"
      ]
     },
     "execution_count": 48,
     "metadata": {},
     "output_type": "execute_result"
    }
   ],
   "source": [
    "np.sum(i)"
   ]
  },
  {
   "cell_type": "code",
   "execution_count": 52,
   "id": "fb1e1cea-cb48-409e-9917-165ab7c16dd4",
   "metadata": {},
   "outputs": [
    {
     "data": {
      "text/plain": [
       "array([ 6, 15])"
      ]
     },
     "execution_count": 52,
     "metadata": {},
     "output_type": "execute_result"
    }
   ],
   "source": [
    "np.sum(i, axis=1)"
   ]
  },
  {
   "cell_type": "code",
   "execution_count": 56,
   "id": "35bc91f1-8b5b-4682-8c80-ce960b77c883",
   "metadata": {},
   "outputs": [
    {
     "data": {
      "text/plain": [
       "array([5, 7, 9])"
      ]
     },
     "execution_count": 56,
     "metadata": {},
     "output_type": "execute_result"
    }
   ],
   "source": [
    "np.sum(i,axis=0)"
   ]
  },
  {
   "cell_type": "code",
   "execution_count": 57,
   "id": "131e2652-4e65-480e-8a4e-f757cdd71e0d",
   "metadata": {},
   "outputs": [
    {
     "data": {
      "text/plain": [
       "1"
      ]
     },
     "execution_count": 57,
     "metadata": {},
     "output_type": "execute_result"
    }
   ],
   "source": [
    "np.min(i)"
   ]
  },
  {
   "cell_type": "code",
   "execution_count": 58,
   "id": "ef8c1284-c6ec-4e0b-9e11-9b0256273462",
   "metadata": {},
   "outputs": [
    {
     "data": {
      "text/plain": [
       "6"
      ]
     },
     "execution_count": 58,
     "metadata": {},
     "output_type": "execute_result"
    }
   ],
   "source": [
    "np.max(i)"
   ]
  },
  {
   "cell_type": "code",
   "execution_count": 61,
   "id": "c4435d2f-09a0-481d-922a-4c6afdbd15f5",
   "metadata": {},
   "outputs": [
    {
     "data": {
      "text/plain": [
       "3.5"
      ]
     },
     "execution_count": 61,
     "metadata": {},
     "output_type": "execute_result"
    }
   ],
   "source": [
    "np.average(i)"
   ]
  },
  {
   "cell_type": "code",
   "execution_count": 65,
   "id": "f84f8406-5a7e-4b30-bd81-cc10fed6c68f",
   "metadata": {},
   "outputs": [
    {
     "data": {
      "text/plain": [
       "5"
      ]
     },
     "execution_count": 65,
     "metadata": {},
     "output_type": "execute_result"
    }
   ],
   "source": [
    "i[1,1]"
   ]
  },
  {
   "cell_type": "code",
   "execution_count": 68,
   "id": "b1ec77c2-1b50-425c-9882-bfc5350fc955",
   "metadata": {},
   "outputs": [
    {
     "data": {
      "text/plain": [
       "2"
      ]
     },
     "execution_count": 68,
     "metadata": {},
     "output_type": "execute_result"
    }
   ],
   "source": [
    "i[0,1]"
   ]
  },
  {
   "cell_type": "code",
   "execution_count": 69,
   "id": "a37c7fa4-7c70-4482-95bd-e0b29061f9ee",
   "metadata": {},
   "outputs": [
    {
     "data": {
      "text/plain": [
       "2"
      ]
     },
     "execution_count": 69,
     "metadata": {},
     "output_type": "execute_result"
    }
   ],
   "source": [
    "i[0,-2]"
   ]
  },
  {
   "cell_type": "code",
   "execution_count": 74,
   "id": "7433d32e-b513-4d96-9f1b-0b65d05fc4f5",
   "metadata": {},
   "outputs": [
    {
     "data": {
      "text/plain": [
       "array([[ 1,  2,  3,  4,  5],\n",
       "       [ 6,  7,  8,  9, 10],\n",
       "       [11, 12, 13, 14, 15],\n",
       "       [16, 17, 18, 19, 20]])"
      ]
     },
     "execution_count": 74,
     "metadata": {},
     "output_type": "execute_result"
    }
   ],
   "source": [
    "n = np.arange(1,21)\n",
    "n1 = n.reshape(4,5)\n",
    "n1"
   ]
  },
  {
   "cell_type": "code",
   "execution_count": 79,
   "id": "f04a7400-ac8c-4432-b519-7de6ae3dcb7e",
   "metadata": {},
   "outputs": [
    {
     "data": {
      "text/plain": [
       "array([21, 22, 23, 24, 25])"
      ]
     },
     "execution_count": 79,
     "metadata": {},
     "output_type": "execute_result"
    }
   ],
   "source": [
    "n2=np.arange(21,26)\n",
    "n2"
   ]
  },
  {
   "cell_type": "code",
   "execution_count": 81,
   "id": "b1826606-e992-4d35-807e-3d8020fe776e",
   "metadata": {},
   "outputs": [
    {
     "data": {
      "text/plain": [
       "array([[ 1,  2,  3,  4,  5],\n",
       "       [ 6,  7,  8,  9, 10],\n",
       "       [11, 12, 13, 14, 15],\n",
       "       [16, 17, 18, 19, 20],\n",
       "       [21, 22, 23, 24, 25]])"
      ]
     },
     "execution_count": 81,
     "metadata": {},
     "output_type": "execute_result"
    }
   ],
   "source": [
    "np.append(n1,[n2],axis=0)"
   ]
  },
  {
   "cell_type": "code",
   "execution_count": 83,
   "id": "920681e5-32f3-4349-a048-f1472749bf12",
   "metadata": {},
   "outputs": [
    {
     "data": {
      "text/plain": [
       "array([[21, 22, 23, 24, 25]])"
      ]
     },
     "execution_count": 83,
     "metadata": {},
     "output_type": "execute_result"
    }
   ],
   "source": [
    "n3=np.arange(21,26)\n",
    "n3=n3.reshape(1,5)\n",
    "n3"
   ]
  },
  {
   "cell_type": "code",
   "execution_count": 90,
   "id": "354c4412-bca2-4adb-a14f-029a45797d73",
   "metadata": {},
   "outputs": [
    {
     "data": {
      "text/plain": [
       "array([[ 1,  2,  3,  4,  5],\n",
       "       [ 6,  7,  8,  9, 10],\n",
       "       [11, 12, 13, 14, 15],\n",
       "       [16, 17, 18, 19, 20],\n",
       "       [21, 22, 23, 24, 25]])"
      ]
     },
     "execution_count": 90,
     "metadata": {},
     "output_type": "execute_result"
    }
   ],
   "source": [
    "t=np.append(n1,n3,axis=0)\n",
    "t"
   ]
  },
  {
   "cell_type": "code",
   "execution_count": 86,
   "id": "7c39232d-f63b-4049-9c13-ba79e97151d8",
   "metadata": {},
   "outputs": [
    {
     "data": {
      "text/plain": [
       "array([[21],\n",
       "       [22],\n",
       "       [23],\n",
       "       [24],\n",
       "       [25]])"
      ]
     },
     "execution_count": 86,
     "metadata": {},
     "output_type": "execute_result"
    }
   ],
   "source": [
    "n4=n3.reshape(5,1)\n",
    "n4"
   ]
  },
  {
   "cell_type": "code",
   "execution_count": 89,
   "id": "a74df32c-995d-4852-a990-c833c60e6e37",
   "metadata": {},
   "outputs": [
    {
     "data": {
      "text/plain": [
       "array([[ 1,  2,  3,  4,  5, 21],\n",
       "       [ 6,  7,  8,  9, 10, 22],\n",
       "       [11, 12, 13, 14, 15, 23],\n",
       "       [16, 17, 18, 19, 20, 24],\n",
       "       [21, 22, 23, 24, 25, 25]])"
      ]
     },
     "execution_count": 89,
     "metadata": {},
     "output_type": "execute_result"
    }
   ],
   "source": [
    "np.append(t,n4,axis=1)"
   ]
  },
  {
   "cell_type": "code",
   "execution_count": 5,
   "id": "733921e4-70cf-4cfe-9e87-b47a5d985e68",
   "metadata": {},
   "outputs": [],
   "source": [
    "import pandas as pd\n",
    "\n",
    "data = pd.read_csv(\"track.csv\",encoding = \"latin1\")"
   ]
  },
  {
   "cell_type": "code",
   "execution_count": 6,
   "id": "ae58dee8-9886-401d-ad86-a1db9df00e80",
   "metadata": {},
   "outputs": [
    {
     "data": {
      "text/html": [
       "<div>\n",
       "<style scoped>\n",
       "    .dataframe tbody tr th:only-of-type {\n",
       "        vertical-align: middle;\n",
       "    }\n",
       "\n",
       "    .dataframe tbody tr th {\n",
       "        vertical-align: top;\n",
       "    }\n",
       "\n",
       "    .dataframe thead th {\n",
       "        text-align: right;\n",
       "    }\n",
       "</style>\n",
       "<table border=\"1\" class=\"dataframe\">\n",
       "  <thead>\n",
       "    <tr style=\"text-align: right;\">\n",
       "      <th></th>\n",
       "      <th>track_id</th>\n",
       "      <th>name</th>\n",
       "      <th>album_id</th>\n",
       "      <th>media_type_id</th>\n",
       "      <th>genre_id</th>\n",
       "      <th>composer</th>\n",
       "      <th>milliseconds</th>\n",
       "      <th>bytes</th>\n",
       "      <th>unit_price</th>\n",
       "    </tr>\n",
       "  </thead>\n",
       "  <tbody>\n",
       "    <tr>\n",
       "      <th>0</th>\n",
       "      <td>1</td>\n",
       "      <td>For Those About To Rock (We Salute You)</td>\n",
       "      <td>1</td>\n",
       "      <td>1</td>\n",
       "      <td>1</td>\n",
       "      <td>Angus Young, Malcolm Young, Brian Johnson</td>\n",
       "      <td>343719</td>\n",
       "      <td>11170334</td>\n",
       "      <td>0.99</td>\n",
       "    </tr>\n",
       "    <tr>\n",
       "      <th>1</th>\n",
       "      <td>2</td>\n",
       "      <td>Balls to the Wall</td>\n",
       "      <td>2</td>\n",
       "      <td>2</td>\n",
       "      <td>1</td>\n",
       "      <td>NaN</td>\n",
       "      <td>342562</td>\n",
       "      <td>5510424</td>\n",
       "      <td>0.99</td>\n",
       "    </tr>\n",
       "    <tr>\n",
       "      <th>2</th>\n",
       "      <td>3</td>\n",
       "      <td>Fast As a Shark</td>\n",
       "      <td>3</td>\n",
       "      <td>2</td>\n",
       "      <td>1</td>\n",
       "      <td>F. Baltes, S. Kaufman, U. Dirkscneider &amp; W. Ho...</td>\n",
       "      <td>230619</td>\n",
       "      <td>3990994</td>\n",
       "      <td>0.99</td>\n",
       "    </tr>\n",
       "    <tr>\n",
       "      <th>3</th>\n",
       "      <td>4</td>\n",
       "      <td>Restless and Wild</td>\n",
       "      <td>3</td>\n",
       "      <td>2</td>\n",
       "      <td>1</td>\n",
       "      <td>F. Baltes, R.A. Smith-Diesel, S. Kaufman, U. D...</td>\n",
       "      <td>252051</td>\n",
       "      <td>4331779</td>\n",
       "      <td>0.99</td>\n",
       "    </tr>\n",
       "    <tr>\n",
       "      <th>4</th>\n",
       "      <td>5</td>\n",
       "      <td>Princess of the Dawn</td>\n",
       "      <td>3</td>\n",
       "      <td>2</td>\n",
       "      <td>1</td>\n",
       "      <td>Deaffy &amp; R.A. Smith-Diesel</td>\n",
       "      <td>375418</td>\n",
       "      <td>6290521</td>\n",
       "      <td>0.99</td>\n",
       "    </tr>\n",
       "    <tr>\n",
       "      <th>...</th>\n",
       "      <td>...</td>\n",
       "      <td>...</td>\n",
       "      <td>...</td>\n",
       "      <td>...</td>\n",
       "      <td>...</td>\n",
       "      <td>...</td>\n",
       "      <td>...</td>\n",
       "      <td>...</td>\n",
       "      <td>...</td>\n",
       "    </tr>\n",
       "    <tr>\n",
       "      <th>3498</th>\n",
       "      <td>3499</td>\n",
       "      <td>Pini Di Roma (Pinien Von Rom) \\ I Pini Della V...</td>\n",
       "      <td>343</td>\n",
       "      <td>2</td>\n",
       "      <td>24</td>\n",
       "      <td>NaN</td>\n",
       "      <td>286741</td>\n",
       "      <td>4718950</td>\n",
       "      <td>0.99</td>\n",
       "    </tr>\n",
       "    <tr>\n",
       "      <th>3499</th>\n",
       "      <td>3500</td>\n",
       "      <td>String Quartet No. 12 in C Minor, D. 703 \"Quar...</td>\n",
       "      <td>344</td>\n",
       "      <td>2</td>\n",
       "      <td>24</td>\n",
       "      <td>Franz Schubert</td>\n",
       "      <td>139200</td>\n",
       "      <td>2283131</td>\n",
       "      <td>0.99</td>\n",
       "    </tr>\n",
       "    <tr>\n",
       "      <th>3500</th>\n",
       "      <td>3501</td>\n",
       "      <td>L'orfeo, Act 3, Sinfonia (Orchestra)</td>\n",
       "      <td>345</td>\n",
       "      <td>2</td>\n",
       "      <td>24</td>\n",
       "      <td>Claudio Monteverdi</td>\n",
       "      <td>66639</td>\n",
       "      <td>1189062</td>\n",
       "      <td>0.99</td>\n",
       "    </tr>\n",
       "    <tr>\n",
       "      <th>3501</th>\n",
       "      <td>3502</td>\n",
       "      <td>Quintet for Horn, Violin, 2 Violas, and Cello ...</td>\n",
       "      <td>346</td>\n",
       "      <td>2</td>\n",
       "      <td>24</td>\n",
       "      <td>Wolfgang Amadeus Mozart</td>\n",
       "      <td>221331</td>\n",
       "      <td>3665114</td>\n",
       "      <td>0.99</td>\n",
       "    </tr>\n",
       "    <tr>\n",
       "      <th>3502</th>\n",
       "      <td>3503</td>\n",
       "      <td>Koyaanisqatsi</td>\n",
       "      <td>347</td>\n",
       "      <td>2</td>\n",
       "      <td>10</td>\n",
       "      <td>Philip Glass</td>\n",
       "      <td>206005</td>\n",
       "      <td>3305164</td>\n",
       "      <td>0.99</td>\n",
       "    </tr>\n",
       "  </tbody>\n",
       "</table>\n",
       "<p>3503 rows × 9 columns</p>\n",
       "</div>"
      ],
      "text/plain": [
       "      track_id                                               name  album_id  \\\n",
       "0            1            For Those About To Rock (We Salute You)         1   \n",
       "1            2                                  Balls to the Wall         2   \n",
       "2            3                                    Fast As a Shark         3   \n",
       "3            4                                  Restless and Wild         3   \n",
       "4            5                               Princess of the Dawn         3   \n",
       "...        ...                                                ...       ...   \n",
       "3498      3499  Pini Di Roma (Pinien Von Rom) \\ I Pini Della V...       343   \n",
       "3499      3500  String Quartet No. 12 in C Minor, D. 703 \"Quar...       344   \n",
       "3500      3501               L'orfeo, Act 3, Sinfonia (Orchestra)       345   \n",
       "3501      3502  Quintet for Horn, Violin, 2 Violas, and Cello ...       346   \n",
       "3502      3503                                      Koyaanisqatsi       347   \n",
       "\n",
       "      media_type_id  genre_id  \\\n",
       "0                 1         1   \n",
       "1                 2         1   \n",
       "2                 2         1   \n",
       "3                 2         1   \n",
       "4                 2         1   \n",
       "...             ...       ...   \n",
       "3498              2        24   \n",
       "3499              2        24   \n",
       "3500              2        24   \n",
       "3501              2        24   \n",
       "3502              2        10   \n",
       "\n",
       "                                               composer  milliseconds  \\\n",
       "0             Angus Young, Malcolm Young, Brian Johnson        343719   \n",
       "1                                                   NaN        342562   \n",
       "2     F. Baltes, S. Kaufman, U. Dirkscneider & W. Ho...        230619   \n",
       "3     F. Baltes, R.A. Smith-Diesel, S. Kaufman, U. D...        252051   \n",
       "4                            Deaffy & R.A. Smith-Diesel        375418   \n",
       "...                                                 ...           ...   \n",
       "3498                                                NaN        286741   \n",
       "3499                                     Franz Schubert        139200   \n",
       "3500                                 Claudio Monteverdi         66639   \n",
       "3501                            Wolfgang Amadeus Mozart        221331   \n",
       "3502                                       Philip Glass        206005   \n",
       "\n",
       "         bytes  unit_price  \n",
       "0     11170334        0.99  \n",
       "1      5510424        0.99  \n",
       "2      3990994        0.99  \n",
       "3      4331779        0.99  \n",
       "4      6290521        0.99  \n",
       "...        ...         ...  \n",
       "3498   4718950        0.99  \n",
       "3499   2283131        0.99  \n",
       "3500   1189062        0.99  \n",
       "3501   3665114        0.99  \n",
       "3502   3305164        0.99  \n",
       "\n",
       "[3503 rows x 9 columns]"
      ]
     },
     "execution_count": 6,
     "metadata": {},
     "output_type": "execute_result"
    }
   ],
   "source": [
    "data"
   ]
  },
  {
   "cell_type": "code",
   "execution_count": 8,
   "id": "703d7a18-68f9-4df2-8e27-1641dd8f7ea6",
   "metadata": {},
   "outputs": [
    {
     "data": {
      "text/html": [
       "<div>\n",
       "<style scoped>\n",
       "    .dataframe tbody tr th:only-of-type {\n",
       "        vertical-align: middle;\n",
       "    }\n",
       "\n",
       "    .dataframe tbody tr th {\n",
       "        vertical-align: top;\n",
       "    }\n",
       "\n",
       "    .dataframe thead th {\n",
       "        text-align: right;\n",
       "    }\n",
       "</style>\n",
       "<table border=\"1\" class=\"dataframe\">\n",
       "  <thead>\n",
       "    <tr style=\"text-align: right;\">\n",
       "      <th></th>\n",
       "      <th>track_id</th>\n",
       "      <th>name</th>\n",
       "      <th>album_id</th>\n",
       "      <th>media_type_id</th>\n",
       "      <th>genre_id</th>\n",
       "      <th>composer</th>\n",
       "      <th>milliseconds</th>\n",
       "      <th>bytes</th>\n",
       "      <th>unit_price</th>\n",
       "    </tr>\n",
       "  </thead>\n",
       "  <tbody>\n",
       "    <tr>\n",
       "      <th>0</th>\n",
       "      <td>1</td>\n",
       "      <td>For Those About To Rock (We Salute You)</td>\n",
       "      <td>1</td>\n",
       "      <td>1</td>\n",
       "      <td>1</td>\n",
       "      <td>Angus Young, Malcolm Young, Brian Johnson</td>\n",
       "      <td>343719</td>\n",
       "      <td>11170334</td>\n",
       "      <td>0.99</td>\n",
       "    </tr>\n",
       "    <tr>\n",
       "      <th>1</th>\n",
       "      <td>2</td>\n",
       "      <td>Balls to the Wall</td>\n",
       "      <td>2</td>\n",
       "      <td>2</td>\n",
       "      <td>1</td>\n",
       "      <td>NaN</td>\n",
       "      <td>342562</td>\n",
       "      <td>5510424</td>\n",
       "      <td>0.99</td>\n",
       "    </tr>\n",
       "    <tr>\n",
       "      <th>2</th>\n",
       "      <td>3</td>\n",
       "      <td>Fast As a Shark</td>\n",
       "      <td>3</td>\n",
       "      <td>2</td>\n",
       "      <td>1</td>\n",
       "      <td>F. Baltes, S. Kaufman, U. Dirkscneider &amp; W. Ho...</td>\n",
       "      <td>230619</td>\n",
       "      <td>3990994</td>\n",
       "      <td>0.99</td>\n",
       "    </tr>\n",
       "    <tr>\n",
       "      <th>3</th>\n",
       "      <td>4</td>\n",
       "      <td>Restless and Wild</td>\n",
       "      <td>3</td>\n",
       "      <td>2</td>\n",
       "      <td>1</td>\n",
       "      <td>F. Baltes, R.A. Smith-Diesel, S. Kaufman, U. D...</td>\n",
       "      <td>252051</td>\n",
       "      <td>4331779</td>\n",
       "      <td>0.99</td>\n",
       "    </tr>\n",
       "    <tr>\n",
       "      <th>4</th>\n",
       "      <td>5</td>\n",
       "      <td>Princess of the Dawn</td>\n",
       "      <td>3</td>\n",
       "      <td>2</td>\n",
       "      <td>1</td>\n",
       "      <td>Deaffy &amp; R.A. Smith-Diesel</td>\n",
       "      <td>375418</td>\n",
       "      <td>6290521</td>\n",
       "      <td>0.99</td>\n",
       "    </tr>\n",
       "  </tbody>\n",
       "</table>\n",
       "</div>"
      ],
      "text/plain": [
       "   track_id                                     name  album_id  media_type_id  \\\n",
       "0         1  For Those About To Rock (We Salute You)         1              1   \n",
       "1         2                        Balls to the Wall         2              2   \n",
       "2         3                          Fast As a Shark         3              2   \n",
       "3         4                        Restless and Wild         3              2   \n",
       "4         5                     Princess of the Dawn         3              2   \n",
       "\n",
       "   genre_id                                           composer  milliseconds  \\\n",
       "0         1          Angus Young, Malcolm Young, Brian Johnson        343719   \n",
       "1         1                                                NaN        342562   \n",
       "2         1  F. Baltes, S. Kaufman, U. Dirkscneider & W. Ho...        230619   \n",
       "3         1  F. Baltes, R.A. Smith-Diesel, S. Kaufman, U. D...        252051   \n",
       "4         1                         Deaffy & R.A. Smith-Diesel        375418   \n",
       "\n",
       "      bytes  unit_price  \n",
       "0  11170334        0.99  \n",
       "1   5510424        0.99  \n",
       "2   3990994        0.99  \n",
       "3   4331779        0.99  \n",
       "4   6290521        0.99  "
      ]
     },
     "execution_count": 8,
     "metadata": {},
     "output_type": "execute_result"
    }
   ],
   "source": [
    "data.head()"
   ]
  },
  {
   "cell_type": "code",
   "execution_count": 9,
   "id": "d3ff2b61-2762-429a-8779-936a6ba093c3",
   "metadata": {},
   "outputs": [
    {
     "data": {
      "text/html": [
       "<div>\n",
       "<style scoped>\n",
       "    .dataframe tbody tr th:only-of-type {\n",
       "        vertical-align: middle;\n",
       "    }\n",
       "\n",
       "    .dataframe tbody tr th {\n",
       "        vertical-align: top;\n",
       "    }\n",
       "\n",
       "    .dataframe thead th {\n",
       "        text-align: right;\n",
       "    }\n",
       "</style>\n",
       "<table border=\"1\" class=\"dataframe\">\n",
       "  <thead>\n",
       "    <tr style=\"text-align: right;\">\n",
       "      <th></th>\n",
       "      <th>track_id</th>\n",
       "      <th>name</th>\n",
       "      <th>album_id</th>\n",
       "      <th>media_type_id</th>\n",
       "      <th>genre_id</th>\n",
       "      <th>composer</th>\n",
       "      <th>milliseconds</th>\n",
       "      <th>bytes</th>\n",
       "      <th>unit_price</th>\n",
       "    </tr>\n",
       "  </thead>\n",
       "  <tbody>\n",
       "    <tr>\n",
       "      <th>3498</th>\n",
       "      <td>3499</td>\n",
       "      <td>Pini Di Roma (Pinien Von Rom) \\ I Pini Della V...</td>\n",
       "      <td>343</td>\n",
       "      <td>2</td>\n",
       "      <td>24</td>\n",
       "      <td>NaN</td>\n",
       "      <td>286741</td>\n",
       "      <td>4718950</td>\n",
       "      <td>0.99</td>\n",
       "    </tr>\n",
       "    <tr>\n",
       "      <th>3499</th>\n",
       "      <td>3500</td>\n",
       "      <td>String Quartet No. 12 in C Minor, D. 703 \"Quar...</td>\n",
       "      <td>344</td>\n",
       "      <td>2</td>\n",
       "      <td>24</td>\n",
       "      <td>Franz Schubert</td>\n",
       "      <td>139200</td>\n",
       "      <td>2283131</td>\n",
       "      <td>0.99</td>\n",
       "    </tr>\n",
       "    <tr>\n",
       "      <th>3500</th>\n",
       "      <td>3501</td>\n",
       "      <td>L'orfeo, Act 3, Sinfonia (Orchestra)</td>\n",
       "      <td>345</td>\n",
       "      <td>2</td>\n",
       "      <td>24</td>\n",
       "      <td>Claudio Monteverdi</td>\n",
       "      <td>66639</td>\n",
       "      <td>1189062</td>\n",
       "      <td>0.99</td>\n",
       "    </tr>\n",
       "    <tr>\n",
       "      <th>3501</th>\n",
       "      <td>3502</td>\n",
       "      <td>Quintet for Horn, Violin, 2 Violas, and Cello ...</td>\n",
       "      <td>346</td>\n",
       "      <td>2</td>\n",
       "      <td>24</td>\n",
       "      <td>Wolfgang Amadeus Mozart</td>\n",
       "      <td>221331</td>\n",
       "      <td>3665114</td>\n",
       "      <td>0.99</td>\n",
       "    </tr>\n",
       "    <tr>\n",
       "      <th>3502</th>\n",
       "      <td>3503</td>\n",
       "      <td>Koyaanisqatsi</td>\n",
       "      <td>347</td>\n",
       "      <td>2</td>\n",
       "      <td>10</td>\n",
       "      <td>Philip Glass</td>\n",
       "      <td>206005</td>\n",
       "      <td>3305164</td>\n",
       "      <td>0.99</td>\n",
       "    </tr>\n",
       "  </tbody>\n",
       "</table>\n",
       "</div>"
      ],
      "text/plain": [
       "      track_id                                               name  album_id  \\\n",
       "3498      3499  Pini Di Roma (Pinien Von Rom) \\ I Pini Della V...       343   \n",
       "3499      3500  String Quartet No. 12 in C Minor, D. 703 \"Quar...       344   \n",
       "3500      3501               L'orfeo, Act 3, Sinfonia (Orchestra)       345   \n",
       "3501      3502  Quintet for Horn, Violin, 2 Violas, and Cello ...       346   \n",
       "3502      3503                                      Koyaanisqatsi       347   \n",
       "\n",
       "      media_type_id  genre_id                 composer  milliseconds    bytes  \\\n",
       "3498              2        24                      NaN        286741  4718950   \n",
       "3499              2        24           Franz Schubert        139200  2283131   \n",
       "3500              2        24       Claudio Monteverdi         66639  1189062   \n",
       "3501              2        24  Wolfgang Amadeus Mozart        221331  3665114   \n",
       "3502              2        10             Philip Glass        206005  3305164   \n",
       "\n",
       "      unit_price  \n",
       "3498        0.99  \n",
       "3499        0.99  \n",
       "3500        0.99  \n",
       "3501        0.99  \n",
       "3502        0.99  "
      ]
     },
     "execution_count": 9,
     "metadata": {},
     "output_type": "execute_result"
    }
   ],
   "source": [
    "data.tail()"
   ]
  },
  {
   "cell_type": "code",
   "execution_count": 10,
   "id": "a0d271b3-8a17-4ae2-b79e-a0b1c8e54a1b",
   "metadata": {},
   "outputs": [
    {
     "data": {
      "text/html": [
       "<div>\n",
       "<style scoped>\n",
       "    .dataframe tbody tr th:only-of-type {\n",
       "        vertical-align: middle;\n",
       "    }\n",
       "\n",
       "    .dataframe tbody tr th {\n",
       "        vertical-align: top;\n",
       "    }\n",
       "\n",
       "    .dataframe thead th {\n",
       "        text-align: right;\n",
       "    }\n",
       "</style>\n",
       "<table border=\"1\" class=\"dataframe\">\n",
       "  <thead>\n",
       "    <tr style=\"text-align: right;\">\n",
       "      <th></th>\n",
       "      <th>track_id</th>\n",
       "      <th>name</th>\n",
       "      <th>album_id</th>\n",
       "      <th>media_type_id</th>\n",
       "      <th>genre_id</th>\n",
       "      <th>composer</th>\n",
       "      <th>milliseconds</th>\n",
       "      <th>bytes</th>\n",
       "      <th>unit_price</th>\n",
       "    </tr>\n",
       "  </thead>\n",
       "  <tbody>\n",
       "    <tr>\n",
       "      <th>3500</th>\n",
       "      <td>3501</td>\n",
       "      <td>L'orfeo, Act 3, Sinfonia (Orchestra)</td>\n",
       "      <td>345</td>\n",
       "      <td>2</td>\n",
       "      <td>24</td>\n",
       "      <td>Claudio Monteverdi</td>\n",
       "      <td>66639</td>\n",
       "      <td>1189062</td>\n",
       "      <td>0.99</td>\n",
       "    </tr>\n",
       "    <tr>\n",
       "      <th>3501</th>\n",
       "      <td>3502</td>\n",
       "      <td>Quintet for Horn, Violin, 2 Violas, and Cello ...</td>\n",
       "      <td>346</td>\n",
       "      <td>2</td>\n",
       "      <td>24</td>\n",
       "      <td>Wolfgang Amadeus Mozart</td>\n",
       "      <td>221331</td>\n",
       "      <td>3665114</td>\n",
       "      <td>0.99</td>\n",
       "    </tr>\n",
       "    <tr>\n",
       "      <th>3502</th>\n",
       "      <td>3503</td>\n",
       "      <td>Koyaanisqatsi</td>\n",
       "      <td>347</td>\n",
       "      <td>2</td>\n",
       "      <td>10</td>\n",
       "      <td>Philip Glass</td>\n",
       "      <td>206005</td>\n",
       "      <td>3305164</td>\n",
       "      <td>0.99</td>\n",
       "    </tr>\n",
       "  </tbody>\n",
       "</table>\n",
       "</div>"
      ],
      "text/plain": [
       "      track_id                                               name  album_id  \\\n",
       "3500      3501               L'orfeo, Act 3, Sinfonia (Orchestra)       345   \n",
       "3501      3502  Quintet for Horn, Violin, 2 Violas, and Cello ...       346   \n",
       "3502      3503                                      Koyaanisqatsi       347   \n",
       "\n",
       "      media_type_id  genre_id                 composer  milliseconds    bytes  \\\n",
       "3500              2        24       Claudio Monteverdi         66639  1189062   \n",
       "3501              2        24  Wolfgang Amadeus Mozart        221331  3665114   \n",
       "3502              2        10             Philip Glass        206005  3305164   \n",
       "\n",
       "      unit_price  \n",
       "3500        0.99  \n",
       "3501        0.99  \n",
       "3502        0.99  "
      ]
     },
     "execution_count": 10,
     "metadata": {},
     "output_type": "execute_result"
    }
   ],
   "source": [
    "data.tail(3)"
   ]
  },
  {
   "cell_type": "code",
   "execution_count": 11,
   "id": "b13570bc-b698-43b1-905f-4dfd2849cbd8",
   "metadata": {},
   "outputs": [
    {
     "data": {
      "text/html": [
       "<div>\n",
       "<style scoped>\n",
       "    .dataframe tbody tr th:only-of-type {\n",
       "        vertical-align: middle;\n",
       "    }\n",
       "\n",
       "    .dataframe tbody tr th {\n",
       "        vertical-align: top;\n",
       "    }\n",
       "\n",
       "    .dataframe thead th {\n",
       "        text-align: right;\n",
       "    }\n",
       "</style>\n",
       "<table border=\"1\" class=\"dataframe\">\n",
       "  <thead>\n",
       "    <tr style=\"text-align: right;\">\n",
       "      <th></th>\n",
       "      <th>track_id</th>\n",
       "      <th>name</th>\n",
       "      <th>album_id</th>\n",
       "      <th>media_type_id</th>\n",
       "      <th>genre_id</th>\n",
       "      <th>composer</th>\n",
       "      <th>milliseconds</th>\n",
       "      <th>bytes</th>\n",
       "      <th>unit_price</th>\n",
       "    </tr>\n",
       "  </thead>\n",
       "  <tbody>\n",
       "    <tr>\n",
       "      <th>0</th>\n",
       "      <td>1</td>\n",
       "      <td>For Those About To Rock (We Salute You)</td>\n",
       "      <td>1</td>\n",
       "      <td>1</td>\n",
       "      <td>1</td>\n",
       "      <td>Angus Young, Malcolm Young, Brian Johnson</td>\n",
       "      <td>343719</td>\n",
       "      <td>11170334</td>\n",
       "      <td>0.99</td>\n",
       "    </tr>\n",
       "    <tr>\n",
       "      <th>1</th>\n",
       "      <td>2</td>\n",
       "      <td>Balls to the Wall</td>\n",
       "      <td>2</td>\n",
       "      <td>2</td>\n",
       "      <td>1</td>\n",
       "      <td>NaN</td>\n",
       "      <td>342562</td>\n",
       "      <td>5510424</td>\n",
       "      <td>0.99</td>\n",
       "    </tr>\n",
       "    <tr>\n",
       "      <th>2</th>\n",
       "      <td>3</td>\n",
       "      <td>Fast As a Shark</td>\n",
       "      <td>3</td>\n",
       "      <td>2</td>\n",
       "      <td>1</td>\n",
       "      <td>F. Baltes, S. Kaufman, U. Dirkscneider &amp; W. Ho...</td>\n",
       "      <td>230619</td>\n",
       "      <td>3990994</td>\n",
       "      <td>0.99</td>\n",
       "    </tr>\n",
       "  </tbody>\n",
       "</table>\n",
       "</div>"
      ],
      "text/plain": [
       "   track_id                                     name  album_id  media_type_id  \\\n",
       "0         1  For Those About To Rock (We Salute You)         1              1   \n",
       "1         2                        Balls to the Wall         2              2   \n",
       "2         3                          Fast As a Shark         3              2   \n",
       "\n",
       "   genre_id                                           composer  milliseconds  \\\n",
       "0         1          Angus Young, Malcolm Young, Brian Johnson        343719   \n",
       "1         1                                                NaN        342562   \n",
       "2         1  F. Baltes, S. Kaufman, U. Dirkscneider & W. Ho...        230619   \n",
       "\n",
       "      bytes  unit_price  \n",
       "0  11170334        0.99  \n",
       "1   5510424        0.99  \n",
       "2   3990994        0.99  "
      ]
     },
     "execution_count": 11,
     "metadata": {},
     "output_type": "execute_result"
    }
   ],
   "source": [
    "data.head(3)"
   ]
  },
  {
   "cell_type": "code",
   "execution_count": 18,
   "id": "ce61bcc4-82a8-4690-91da-03c93d98aaf2",
   "metadata": {},
   "outputs": [],
   "source": [
    "import pandas as pd\n",
    "\n",
    "df = pd.read_excel(\"karigar.xlsx\")"
   ]
  },
  {
   "cell_type": "code",
   "execution_count": 19,
   "id": "e641e09e-fd40-4ff2-ac17-8fe4bcf94f9d",
   "metadata": {},
   "outputs": [
    {
     "data": {
      "text/html": [
       "<div>\n",
       "<style scoped>\n",
       "    .dataframe tbody tr th:only-of-type {\n",
       "        vertical-align: middle;\n",
       "    }\n",
       "\n",
       "    .dataframe tbody tr th {\n",
       "        vertical-align: top;\n",
       "    }\n",
       "\n",
       "    .dataframe thead th {\n",
       "        text-align: right;\n",
       "    }\n",
       "</style>\n",
       "<table border=\"1\" class=\"dataframe\">\n",
       "  <thead>\n",
       "    <tr style=\"text-align: right;\">\n",
       "      <th></th>\n",
       "      <th>ID</th>\n",
       "      <th>FirstName</th>\n",
       "      <th>LastName</th>\n",
       "      <th>Salary</th>\n",
       "      <th>Address</th>\n",
       "    </tr>\n",
       "  </thead>\n",
       "  <tbody>\n",
       "    <tr>\n",
       "      <th>0</th>\n",
       "      <td>1</td>\n",
       "      <td>Balu</td>\n",
       "      <td>Patel</td>\n",
       "      <td>2000</td>\n",
       "      <td>A</td>\n",
       "    </tr>\n",
       "    <tr>\n",
       "      <th>1</th>\n",
       "      <td>2</td>\n",
       "      <td>Md</td>\n",
       "      <td>Ismail</td>\n",
       "      <td>2500</td>\n",
       "      <td>B</td>\n",
       "    </tr>\n",
       "    <tr>\n",
       "      <th>2</th>\n",
       "      <td>3</td>\n",
       "      <td>Md</td>\n",
       "      <td>Nazim</td>\n",
       "      <td>2200</td>\n",
       "      <td>C</td>\n",
       "    </tr>\n",
       "    <tr>\n",
       "      <th>3</th>\n",
       "      <td>4</td>\n",
       "      <td>Md</td>\n",
       "      <td>Mukhtar</td>\n",
       "      <td>2300</td>\n",
       "      <td>D</td>\n",
       "    </tr>\n",
       "    <tr>\n",
       "      <th>4</th>\n",
       "      <td>5</td>\n",
       "      <td>Md</td>\n",
       "      <td>Farooque</td>\n",
       "      <td>3000</td>\n",
       "      <td>E</td>\n",
       "    </tr>\n",
       "    <tr>\n",
       "      <th>5</th>\n",
       "      <td>6</td>\n",
       "      <td>Nandan</td>\n",
       "      <td>Patel</td>\n",
       "      <td>2500</td>\n",
       "      <td>F</td>\n",
       "    </tr>\n",
       "    <tr>\n",
       "      <th>6</th>\n",
       "      <td>7</td>\n",
       "      <td>Dakya</td>\n",
       "      <td>Patel</td>\n",
       "      <td>1800</td>\n",
       "      <td>G</td>\n",
       "    </tr>\n",
       "    <tr>\n",
       "      <th>7</th>\n",
       "      <td>8</td>\n",
       "      <td>Md</td>\n",
       "      <td>Mushtaque</td>\n",
       "      <td>3100</td>\n",
       "      <td>H</td>\n",
       "    </tr>\n",
       "    <tr>\n",
       "      <th>8</th>\n",
       "      <td>9</td>\n",
       "      <td>Md</td>\n",
       "      <td>Mohsin</td>\n",
       "      <td>2200</td>\n",
       "      <td>I</td>\n",
       "    </tr>\n",
       "    <tr>\n",
       "      <th>9</th>\n",
       "      <td>10</td>\n",
       "      <td>Vilas</td>\n",
       "      <td>Kaka</td>\n",
       "      <td>2500</td>\n",
       "      <td>J</td>\n",
       "    </tr>\n",
       "  </tbody>\n",
       "</table>\n",
       "</div>"
      ],
      "text/plain": [
       "   ID FirstName   LastName  Salary Address\n",
       "0   1      Balu      Patel    2000       A\n",
       "1   2        Md     Ismail    2500       B\n",
       "2   3        Md      Nazim    2200       C\n",
       "3   4        Md    Mukhtar    2300       D\n",
       "4   5        Md   Farooque    3000       E\n",
       "5   6    Nandan      Patel    2500       F\n",
       "6   7     Dakya      Patel    1800       G\n",
       "7   8        Md  Mushtaque    3100       H\n",
       "8   9        Md     Mohsin    2200       I\n",
       "9  10     Vilas       Kaka    2500       J"
      ]
     },
     "execution_count": 19,
     "metadata": {},
     "output_type": "execute_result"
    }
   ],
   "source": [
    "df"
   ]
  },
  {
   "cell_type": "code",
   "execution_count": 21,
   "id": "68584e9c-713f-4676-aa15-22a508c76e1f",
   "metadata": {},
   "outputs": [],
   "source": [
    "df1 = pd.read_excel(\"F:\\karigar.xlsx\")"
   ]
  },
  {
   "cell_type": "code",
   "execution_count": 22,
   "id": "f1ec18db-ca6e-44ef-9ac6-d0efb70d8488",
   "metadata": {},
   "outputs": [
    {
     "data": {
      "text/html": [
       "<div>\n",
       "<style scoped>\n",
       "    .dataframe tbody tr th:only-of-type {\n",
       "        vertical-align: middle;\n",
       "    }\n",
       "\n",
       "    .dataframe tbody tr th {\n",
       "        vertical-align: top;\n",
       "    }\n",
       "\n",
       "    .dataframe thead th {\n",
       "        text-align: right;\n",
       "    }\n",
       "</style>\n",
       "<table border=\"1\" class=\"dataframe\">\n",
       "  <thead>\n",
       "    <tr style=\"text-align: right;\">\n",
       "      <th></th>\n",
       "      <th>ID</th>\n",
       "      <th>FirstName</th>\n",
       "      <th>LastName</th>\n",
       "      <th>Salary</th>\n",
       "      <th>Address</th>\n",
       "    </tr>\n",
       "  </thead>\n",
       "  <tbody>\n",
       "    <tr>\n",
       "      <th>0</th>\n",
       "      <td>1</td>\n",
       "      <td>Balu</td>\n",
       "      <td>Patel</td>\n",
       "      <td>2000</td>\n",
       "      <td>A</td>\n",
       "    </tr>\n",
       "    <tr>\n",
       "      <th>1</th>\n",
       "      <td>2</td>\n",
       "      <td>Md</td>\n",
       "      <td>Ismail</td>\n",
       "      <td>2500</td>\n",
       "      <td>B</td>\n",
       "    </tr>\n",
       "    <tr>\n",
       "      <th>2</th>\n",
       "      <td>3</td>\n",
       "      <td>Md</td>\n",
       "      <td>Nazim</td>\n",
       "      <td>2200</td>\n",
       "      <td>C</td>\n",
       "    </tr>\n",
       "    <tr>\n",
       "      <th>3</th>\n",
       "      <td>4</td>\n",
       "      <td>Md</td>\n",
       "      <td>Mukhtar</td>\n",
       "      <td>2300</td>\n",
       "      <td>D</td>\n",
       "    </tr>\n",
       "    <tr>\n",
       "      <th>4</th>\n",
       "      <td>5</td>\n",
       "      <td>Md</td>\n",
       "      <td>Farooque</td>\n",
       "      <td>3000</td>\n",
       "      <td>E</td>\n",
       "    </tr>\n",
       "    <tr>\n",
       "      <th>5</th>\n",
       "      <td>6</td>\n",
       "      <td>Nandan</td>\n",
       "      <td>Patel</td>\n",
       "      <td>2500</td>\n",
       "      <td>F</td>\n",
       "    </tr>\n",
       "    <tr>\n",
       "      <th>6</th>\n",
       "      <td>7</td>\n",
       "      <td>Dakya</td>\n",
       "      <td>Patel</td>\n",
       "      <td>1800</td>\n",
       "      <td>G</td>\n",
       "    </tr>\n",
       "    <tr>\n",
       "      <th>7</th>\n",
       "      <td>8</td>\n",
       "      <td>Md</td>\n",
       "      <td>Mushtaque</td>\n",
       "      <td>3100</td>\n",
       "      <td>H</td>\n",
       "    </tr>\n",
       "    <tr>\n",
       "      <th>8</th>\n",
       "      <td>9</td>\n",
       "      <td>Md</td>\n",
       "      <td>Mohsin</td>\n",
       "      <td>2200</td>\n",
       "      <td>I</td>\n",
       "    </tr>\n",
       "    <tr>\n",
       "      <th>9</th>\n",
       "      <td>10</td>\n",
       "      <td>Vilas</td>\n",
       "      <td>Kaka</td>\n",
       "      <td>2500</td>\n",
       "      <td>J</td>\n",
       "    </tr>\n",
       "  </tbody>\n",
       "</table>\n",
       "</div>"
      ],
      "text/plain": [
       "   ID FirstName   LastName  Salary Address\n",
       "0   1      Balu      Patel    2000       A\n",
       "1   2        Md     Ismail    2500       B\n",
       "2   3        Md      Nazim    2200       C\n",
       "3   4        Md    Mukhtar    2300       D\n",
       "4   5        Md   Farooque    3000       E\n",
       "5   6    Nandan      Patel    2500       F\n",
       "6   7     Dakya      Patel    1800       G\n",
       "7   8        Md  Mushtaque    3100       H\n",
       "8   9        Md     Mohsin    2200       I\n",
       "9  10     Vilas       Kaka    2500       J"
      ]
     },
     "execution_count": 22,
     "metadata": {},
     "output_type": "execute_result"
    }
   ],
   "source": [
    "df1"
   ]
  },
  {
   "cell_type": "code",
   "execution_count": 23,
   "id": "a3618da6-1600-47c1-8797-64f6b462c740",
   "metadata": {},
   "outputs": [
    {
     "ename": "AttributeError",
     "evalue": "module 'pandas' has no attribute 'sum'",
     "output_type": "error",
     "traceback": [
      "\u001b[1;31m---------------------------------------------------------------------------\u001b[0m",
      "\u001b[1;31mAttributeError\u001b[0m                            Traceback (most recent call last)",
      "Cell \u001b[1;32mIn[23], line 1\u001b[0m\n\u001b[1;32m----> 1\u001b[0m s \u001b[38;5;241m=\u001b[39m \u001b[43mpd\u001b[49m\u001b[38;5;241;43m.\u001b[39;49m\u001b[43msum\u001b[49m(salary)\n",
      "\u001b[1;31mAttributeError\u001b[0m: module 'pandas' has no attribute 'sum'"
     ]
    }
   ],
   "source": [
    "s = pd.sum(salary)"
   ]
  },
  {
   "cell_type": "code",
   "execution_count": 47,
   "id": "508c7d9b-c740-4b1a-82f6-bb3ed8d60fee",
   "metadata": {},
   "outputs": [
    {
     "data": {
      "text/plain": [
       "(4,\n",
       " 3,\n",
       " 3,\n",
       " -3,\n",
       " -4,\n",
       " -3,\n",
       " 7.38905609893065,\n",
       " 100.0,\n",
       " 10.0,\n",
       " 4.605170185988092,\n",
       " 2.0,\n",
       " 3.141592653589793,\n",
       " 2.718281828459045,\n",
       " 0.8939966636005579,\n",
       " 1.0,\n",
       " 15,\n",
       " 15.0,\n",
       " 20,\n",
       " 120)"
      ]
     },
     "execution_count": 47,
     "metadata": {},
     "output_type": "execute_result"
    }
   ],
   "source": [
    "from math import ceil,floor,trunc,exp,pow,sqrt,log,pi,e,radians,sin,fsum,gcd,factorial\n",
    "i = 3.5\n",
    "j = -3.5\n",
    "k = 2\n",
    "l = [1,2,3,4,5]\n",
    "ceil(i),floor(i),trunc(i),ceil(j),floor(j),trunc(j),exp(2),pow(10,2),sqrt(100),log(100),log(100,10),pi,e,sin(90),sin(radians(90)),sum(l),fsum(l),gcd(20,100),factorial(5)"
   ]
  },
  {
   "cell_type": "code",
   "execution_count": 48,
   "id": "9ccfd792-0309-49d6-83c5-f54797f959cb",
   "metadata": {},
   "outputs": [],
   "source": [
    "import numpy as np"
   ]
  },
  {
   "cell_type": "code",
   "execution_count": 50,
   "id": "5639e992-7056-411a-b046-666cd9ed14d7",
   "metadata": {},
   "outputs": [
    {
     "data": {
      "text/plain": [
       "array([[1., 1., 1.],\n",
       "       [1., 1., 1.],\n",
       "       [1., 1., 1.]])"
      ]
     },
     "execution_count": 50,
     "metadata": {},
     "output_type": "execute_result"
    }
   ],
   "source": [
    "np.ones((3,3))"
   ]
  },
  {
   "cell_type": "markdown",
   "id": "b52d6fb8-3c0e-4a71-b41b-cc10416463b6",
   "metadata": {},
   "source": []
  },
  {
   "cell_type": "code",
   "execution_count": 51,
   "id": "731eddcd-ebad-492c-b94d-82fc6c249da5",
   "metadata": {},
   "outputs": [
    {
     "data": {
      "text/plain": [
       "array([2.        , 2.28571429, 2.57142857, 2.85714286, 3.14285714,\n",
       "       3.42857143, 3.71428571, 4.        ])"
      ]
     },
     "execution_count": 51,
     "metadata": {},
     "output_type": "execute_result"
    }
   ],
   "source": [
    "np.linspace(2,4,8)"
   ]
  },
  {
   "cell_type": "code",
   "execution_count": 52,
   "id": "be6ccc23-ccb4-447f-b6ad-6033a593044f",
   "metadata": {},
   "outputs": [
    {
     "data": {
      "text/plain": [
       "array([  100.        ,   193.06977289,   372.75937203,   719.685673  ,\n",
       "        1389.49549437,  2682.69579528,  5179.47467923, 10000.        ])"
      ]
     },
     "execution_count": 52,
     "metadata": {},
     "output_type": "execute_result"
    }
   ],
   "source": [
    "np.logspace(2,4,8)"
   ]
  },
  {
   "cell_type": "code",
   "execution_count": 60,
   "id": "f93ce7c7-6a5f-40e8-a71a-94d6a71d509c",
   "metadata": {},
   "outputs": [
    {
     "data": {
      "text/plain": [
       "array([[[0.0399479 , 0.64123563],\n",
       "        [0.68806207, 0.0139646 ]],\n",
       "\n",
       "       [[0.96274391, 0.08328607],\n",
       "        [0.07709438, 0.72448839]]])"
      ]
     },
     "execution_count": 60,
     "metadata": {},
     "output_type": "execute_result"
    }
   ],
   "source": [
    "np.random.rand(2,2,2)"
   ]
  },
  {
   "cell_type": "code",
   "execution_count": 56,
   "id": "36c2337f-07a9-419b-bc10-4c8e1c31ee82",
   "metadata": {},
   "outputs": [],
   "source": [
    "d = np.random.randint(0,10,size=(5,5))"
   ]
  },
  {
   "cell_type": "code",
   "execution_count": 57,
   "id": "8d8b07e0-e564-4e42-9e1a-a134dc6fe53e",
   "metadata": {},
   "outputs": [
    {
     "data": {
      "text/plain": [
       "array([[8, 6, 7, 4, 4],\n",
       "       [3, 3, 0, 3, 0],\n",
       "       [7, 5, 9, 0, 2],\n",
       "       [6, 1, 9, 0, 4],\n",
       "       [7, 8, 0, 1, 4]])"
      ]
     },
     "execution_count": 57,
     "metadata": {},
     "output_type": "execute_result"
    }
   ],
   "source": [
    "d"
   ]
  },
  {
   "cell_type": "code",
   "execution_count": 61,
   "id": "c7388ea9-aa55-4ecd-b72b-38761afbd6d3",
   "metadata": {},
   "outputs": [
    {
     "data": {
      "text/plain": [
       "array([[8, 6, 7, 4, 4],\n",
       "       [3, 3, 0, 3, 0],\n",
       "       [7, 5, 9, 0, 2],\n",
       "       [6, 1, 9, 0, 4],\n",
       "       [7, 8, 0, 1, 4]])"
      ]
     },
     "execution_count": 61,
     "metadata": {},
     "output_type": "execute_result"
    }
   ],
   "source": [
    "d[:,:]"
   ]
  },
  {
   "cell_type": "code",
   "execution_count": 62,
   "id": "aeec797d-5474-4b15-8355-fd0c78fa47bd",
   "metadata": {},
   "outputs": [],
   "source": [
    "a=np.ones((3,3))"
   ]
  },
  {
   "cell_type": "code",
   "execution_count": 63,
   "id": "1956ea6c-f3b1-471f-ba70-68296eacb652",
   "metadata": {},
   "outputs": [],
   "source": [
    "b=np.zeros((3,3))"
   ]
  },
  {
   "cell_type": "code",
   "execution_count": 65,
   "id": "17f9303d-f687-489e-85e6-4c6e8d73ecf0",
   "metadata": {},
   "outputs": [
    {
     "data": {
      "text/plain": [
       "array([[1., 1., 1.],\n",
       "       [1., 1., 1.],\n",
       "       [1., 1., 1.],\n",
       "       [0., 0., 0.],\n",
       "       [0., 0., 0.],\n",
       "       [0., 0., 0.]])"
      ]
     },
     "execution_count": 65,
     "metadata": {},
     "output_type": "execute_result"
    }
   ],
   "source": [
    "np.concatenate([a,b])"
   ]
  },
  {
   "cell_type": "code",
   "execution_count": 76,
   "id": "adc76022-1b02-4301-9370-92f000aa7c19",
   "metadata": {},
   "outputs": [],
   "source": [
    "d=np.concatenate([a,b],axis=1)"
   ]
  },
  {
   "cell_type": "code",
   "execution_count": 89,
   "id": "66d1a14d-1cac-4184-9d97-200fde5a9e6f",
   "metadata": {},
   "outputs": [],
   "source": [
    "c=np.vstack([a,b])"
   ]
  },
  {
   "cell_type": "code",
   "execution_count": 88,
   "id": "34165411-fa2e-402e-aa9e-fff57c634506",
   "metadata": {},
   "outputs": [
    {
     "data": {
      "text/plain": [
       "array([[1., 1., 1., 0., 0., 0.],\n",
       "       [1., 1., 1., 0., 0., 0.],\n",
       "       [1., 1., 1., 0., 0., 0.]])"
      ]
     },
     "execution_count": 88,
     "metadata": {},
     "output_type": "execute_result"
    }
   ],
   "source": [
    "np.hstack([a,b])"
   ]
  },
  {
   "cell_type": "code",
   "execution_count": 98,
   "id": "6877aca2-9229-4f89-8400-ac9d1c92dcd0",
   "metadata": {},
   "outputs": [],
   "source": [
    "d1,d2=np.split(c,[2])"
   ]
  },
  {
   "cell_type": "code",
   "execution_count": 99,
   "id": "1dd45a92-159b-4e4f-a88e-7201f6349dc5",
   "metadata": {},
   "outputs": [
    {
     "data": {
      "text/plain": [
       "array([[1., 1., 1.],\n",
       "       [1., 1., 1.]])"
      ]
     },
     "execution_count": 99,
     "metadata": {},
     "output_type": "execute_result"
    }
   ],
   "source": [
    "d1"
   ]
  },
  {
   "cell_type": "code",
   "execution_count": 100,
   "id": "12798262-0457-46bf-9c9d-c40681cae1f9",
   "metadata": {},
   "outputs": [
    {
     "data": {
      "text/plain": [
       "array([[1., 1., 1.],\n",
       "       [0., 0., 0.],\n",
       "       [0., 0., 0.],\n",
       "       [0., 0., 0.]])"
      ]
     },
     "execution_count": 100,
     "metadata": {},
     "output_type": "execute_result"
    }
   ],
   "source": [
    "d2"
   ]
  },
  {
   "cell_type": "code",
   "execution_count": 101,
   "id": "c9df4618-e969-4756-9b6a-22b0347e383a",
   "metadata": {},
   "outputs": [],
   "source": [
    "e1,e2=np.vsplit(c,[2])"
   ]
  },
  {
   "cell_type": "code",
   "execution_count": 102,
   "id": "236aa897-d024-4162-a432-5d5001b36165",
   "metadata": {},
   "outputs": [
    {
     "data": {
      "text/plain": [
       "array([[1., 1., 1.],\n",
       "       [1., 1., 1.]])"
      ]
     },
     "execution_count": 102,
     "metadata": {},
     "output_type": "execute_result"
    }
   ],
   "source": [
    "e1"
   ]
  },
  {
   "cell_type": "code",
   "execution_count": 103,
   "id": "fcf00c60-7d2e-42dd-b885-d3965f4e60a9",
   "metadata": {},
   "outputs": [
    {
     "data": {
      "text/plain": [
       "array([[1., 1., 1.],\n",
       "       [0., 0., 0.],\n",
       "       [0., 0., 0.],\n",
       "       [0., 0., 0.]])"
      ]
     },
     "execution_count": 103,
     "metadata": {},
     "output_type": "execute_result"
    }
   ],
   "source": [
    "e2"
   ]
  },
  {
   "cell_type": "code",
   "execution_count": 105,
   "id": "a472843a-5ada-458e-b050-785382bd38f2",
   "metadata": {},
   "outputs": [
    {
     "data": {
      "text/plain": [
       "2"
      ]
     },
     "execution_count": 105,
     "metadata": {},
     "output_type": "execute_result"
    }
   ],
   "source": [
    "d.ndim"
   ]
  },
  {
   "cell_type": "code",
   "execution_count": 106,
   "id": "c22a1641-248e-4881-b7e8-81dc9a61a3e6",
   "metadata": {},
   "outputs": [
    {
     "data": {
      "text/plain": [
       "(3, 6)"
      ]
     },
     "execution_count": 106,
     "metadata": {},
     "output_type": "execute_result"
    }
   ],
   "source": [
    "d.shape"
   ]
  },
  {
   "cell_type": "code",
   "execution_count": 107,
   "id": "b9b520ad-2202-44f0-b146-b800e910573b",
   "metadata": {},
   "outputs": [
    {
     "data": {
      "text/plain": [
       "18"
      ]
     },
     "execution_count": 107,
     "metadata": {},
     "output_type": "execute_result"
    }
   ],
   "source": [
    "d.size"
   ]
  },
  {
   "cell_type": "code",
   "execution_count": 112,
   "id": "1d46d69a-af17-4f71-85a0-85c35107b325",
   "metadata": {},
   "outputs": [],
   "source": [
    "a=np.arange(1,7)"
   ]
  },
  {
   "cell_type": "code",
   "execution_count": 113,
   "id": "4a3d0501-5744-43b9-a889-1d35cc883e7f",
   "metadata": {},
   "outputs": [
    {
     "data": {
      "text/plain": [
       "array([1, 2, 3, 4, 5, 6])"
      ]
     },
     "execution_count": 113,
     "metadata": {},
     "output_type": "execute_result"
    }
   ],
   "source": [
    "a"
   ]
  },
  {
   "cell_type": "code",
   "execution_count": 114,
   "id": "76b31e8b-9fc5-4541-be44-9a0ae09e3cae",
   "metadata": {},
   "outputs": [
    {
     "data": {
      "text/plain": [
       "array([[1],\n",
       "       [2],\n",
       "       [3],\n",
       "       [4],\n",
       "       [5],\n",
       "       [6]])"
      ]
     },
     "execution_count": 114,
     "metadata": {},
     "output_type": "execute_result"
    }
   ],
   "source": [
    "a.reshape(-1,1)"
   ]
  },
  {
   "cell_type": "code",
   "execution_count": 115,
   "id": "623cfed5-dfe0-48d1-9692-62804fdbc391",
   "metadata": {},
   "outputs": [
    {
     "data": {
      "text/plain": [
       "array([[1],\n",
       "       [2],\n",
       "       [3],\n",
       "       [4],\n",
       "       [5],\n",
       "       [6]])"
      ]
     },
     "execution_count": 115,
     "metadata": {},
     "output_type": "execute_result"
    }
   ],
   "source": [
    "a[:,np.newaxis]"
   ]
  },
  {
   "cell_type": "code",
   "execution_count": 155,
   "id": "d44bec8c-1d65-45f9-a135-3a71b065e399",
   "metadata": {},
   "outputs": [],
   "source": [
    "a = np.array([[1,1,],[3,2]])"
   ]
  },
  {
   "cell_type": "code",
   "execution_count": 156,
   "id": "268adc8f-515c-4c0a-a35c-d9b45538e370",
   "metadata": {},
   "outputs": [
    {
     "data": {
      "text/plain": [
       "array([[1, 1],\n",
       "       [3, 2]])"
      ]
     },
     "execution_count": 156,
     "metadata": {},
     "output_type": "execute_result"
    }
   ],
   "source": [
    "a"
   ]
  },
  {
   "cell_type": "code",
   "execution_count": 157,
   "id": "2fed569a-d79f-4bd6-8d4d-23aa2b485d2d",
   "metadata": {},
   "outputs": [],
   "source": [
    "b = np.array([[2,3],[4,5],[7,8]])"
   ]
  },
  {
   "cell_type": "code",
   "execution_count": 158,
   "id": "21561d98-b76c-4a4c-89da-3d9db3634250",
   "metadata": {},
   "outputs": [
    {
     "data": {
      "text/plain": [
       "array([[2, 3],\n",
       "       [4, 5],\n",
       "       [7, 8]])"
      ]
     },
     "execution_count": 158,
     "metadata": {},
     "output_type": "execute_result"
    }
   ],
   "source": [
    "b"
   ]
  },
  {
   "cell_type": "code",
   "execution_count": 161,
   "id": "7ee71587-6a6d-4f0a-8da8-f7a703df3c2d",
   "metadata": {},
   "outputs": [
    {
     "data": {
      "text/plain": [
       "array([[[1, 1]],\n",
       "\n",
       "       [[3, 2]]])"
      ]
     },
     "execution_count": 161,
     "metadata": {},
     "output_type": "execute_result"
    }
   ],
   "source": [
    "a.reshape(2,1,2)"
   ]
  },
  {
   "cell_type": "code",
   "execution_count": 152,
   "id": "4b0796e7-9b76-4799-85b8-671807c7420b",
   "metadata": {},
   "outputs": [
    {
     "data": {
      "text/plain": [
       "array([[[2, 3],\n",
       "        [4, 5],\n",
       "        [7, 8]]])"
      ]
     },
     "execution_count": 152,
     "metadata": {},
     "output_type": "execute_result"
    }
   ],
   "source": [
    "b.reshape(1,3,2)"
   ]
  },
  {
   "cell_type": "code",
   "execution_count": 146,
   "id": "cb2a7a0f-af93-44b0-88aa-2948b51d1fe7",
   "metadata": {},
   "outputs": [],
   "source": [
    "d= a.reshape(2,1,2) + b.reshape(1,3,2)"
   ]
  },
  {
   "cell_type": "code",
   "execution_count": 147,
   "id": "58aae53f-ad16-44ad-baca-44e99a7c1b83",
   "metadata": {},
   "outputs": [
    {
     "data": {
      "text/plain": [
       "array([[[ 3,  4],\n",
       "        [ 5,  6],\n",
       "        [ 8,  9]],\n",
       "\n",
       "       [[ 5,  5],\n",
       "        [ 7,  7],\n",
       "        [10, 10]]])"
      ]
     },
     "execution_count": 147,
     "metadata": {},
     "output_type": "execute_result"
    }
   ],
   "source": [
    "d"
   ]
  },
  {
   "cell_type": "code",
   "execution_count": 148,
   "id": "925a620f-eea3-4d1b-bcd5-5f9b9a710c1e",
   "metadata": {},
   "outputs": [
    {
     "data": {
      "text/plain": [
       "3"
      ]
     },
     "execution_count": 148,
     "metadata": {},
     "output_type": "execute_result"
    }
   ],
   "source": [
    "d.ndim"
   ]
  },
  {
   "cell_type": "code",
   "execution_count": 162,
   "id": "0bc180bd-f824-4884-86d4-016b6e77c19f",
   "metadata": {},
   "outputs": [],
   "source": [
    "d= a.reshape(2,1,2) - b.reshape(1,3,2)"
   ]
  },
  {
   "cell_type": "code",
   "execution_count": 164,
   "id": "062911a1-349a-4e73-885f-7273e10836ff",
   "metadata": {},
   "outputs": [
    {
     "data": {
      "text/plain": [
       "array([[[-1, -2],\n",
       "        [-3, -4],\n",
       "        [-6, -7]],\n",
       "\n",
       "       [[ 1, -1],\n",
       "        [-1, -3],\n",
       "        [-4, -6]]])"
      ]
     },
     "execution_count": 164,
     "metadata": {},
     "output_type": "execute_result"
    }
   ],
   "source": [
    "d"
   ]
  },
  {
   "cell_type": "code",
   "execution_count": null,
   "id": "b9b265a8-91f2-4703-9372-400f24c6fd0a",
   "metadata": {},
   "outputs": [],
   "source": []
  }
 ],
 "metadata": {
  "kernelspec": {
   "display_name": "Python 3 (ipykernel)",
   "language": "python",
   "name": "python3"
  },
  "language_info": {
   "codemirror_mode": {
    "name": "ipython",
    "version": 3
   },
   "file_extension": ".py",
   "mimetype": "text/x-python",
   "name": "python",
   "nbconvert_exporter": "python",
   "pygments_lexer": "ipython3",
   "version": "3.11.4"
  }
 },
 "nbformat": 4,
 "nbformat_minor": 5
}
